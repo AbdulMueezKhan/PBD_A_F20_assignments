{
 "cells": [
  {
   "cell_type": "code",
   "execution_count": null,
   "metadata": {},
   "outputs": [],
   "source": [
    "#1"
   ]
  },
  {
   "cell_type": "code",
   "execution_count": null,
   "metadata": {},
   "outputs": [],
   "source": [
    "def isPrime(num):\n",
    "    if num > 1:\n",
    "       # check for factors\n",
    "       for i in range(2,num,1):\n",
    "            if (num % i) == 0:\n",
    "                return False\n",
    "       \n",
    "\n",
    "    return True"
   ]
  },
  {
   "cell_type": "code",
   "execution_count": null,
   "metadata": {},
   "outputs": [],
   "source": [
    "def chkRot(num):\n",
    "    res = list(map(int, str(num)))\n",
    "#     print(\" kk\",res)\n",
    "    for i in range(0,len(res),1):\n",
    "        test=res[i:] + res[:i]\n",
    "        new_res = int(\"\".join(map(str, test)))\n",
    "#         print(\" int\",new_res)\n",
    "        if(not isPrime(new_res)):\n",
    "            return False\n",
    "  \n",
    "    return True"
   ]
  },
  {
   "cell_type": "code",
   "execution_count": null,
   "metadata": {},
   "outputs": [],
   "source": [
    "\n",
    "for i in range(2,100,1):\n",
    "    if(chkRot(i)):\n",
    "        print(\" num\",i)"
   ]
  },
  {
   "cell_type": "code",
   "execution_count": 38,
   "metadata": {},
   "outputs": [],
   "source": [
    "# 3"
   ]
  },
  {
   "cell_type": "code",
   "execution_count": null,
   "metadata": {},
   "outputs": [],
   "source": [
    "def isPrime(num):\n",
    "    if num > 1:\n",
    "      # check for factors\n",
    "      for i in range(2,num,1):\n",
    "            if (num % i) == 0:\n",
    "                return False\n",
    "    if num > 1:       \n",
    "        return True\n",
    "def chkRot(num):\n",
    "    res = list(map(int, str(num)))\n",
    "\n",
    "    for i in range(0,len(res),1):\n",
    "        test1=res[i:] \n",
    "        new_res1 = int(\"\".join(map(str, test1)))\n",
    "        # print(new_res1)\n",
    "        if(not isPrime(new_res1)):\n",
    "            # print(\" aii\")\n",
    "            return False\n",
    "            \n",
    "    for i in range(1,len(res)+1,1):\n",
    "        \n",
    "        test2=res[:i]\n",
    "       \n",
    "        new_res2 = int(\"\".join(map(str, test2)))\n",
    "        # print(new_res2)\n",
    "        if(not isPrime(new_res2)):\n",
    "            return False\n",
    "        \n",
    "    return True\n",
    "count=1\n",
    "for i in range(20,1000000,1):\n",
    "    if(chkRot(i)):\n",
    "        print(\" num\",i)\n",
    "        count+=1\n",
    "    if(count==12):\n",
    "         break"
   ]
  },
  {
   "cell_type": "code",
   "execution_count": null,
   "metadata": {},
   "outputs": [],
   "source": [
    "# 2"
   ]
  },
  {
   "cell_type": "code",
   "execution_count": null,
   "metadata": {},
   "outputs": [],
   "source": [
    "\n",
    "Placed_lim = 100 #set here the number\n",
    "val = [1] * (Placed_lim + 1)\n",
    "val[0] = val[1] = 0\n",
    "\n",
    "primes = []\n",
    "store = [0]\n",
    "\n",
    "for i in range(2, Placed_lim):\n",
    "    if val[i]:\n",
    "        primes.append(i)\n",
    "        store.append(store[-1] + i)\n",
    "\n",
    "        for j in range(i * i, Placed_lim + 1, i):\n",
    "            val[j] = 0\n",
    "\n",
    "primes = set(primes)\n",
    "for width in range(len(primes), 0, -1):\n",
    "    for off in range(width, len(store)):\n",
    "        temp = store[off] - store[off - width]\n",
    "        if temp > Placed_lim:\n",
    "            break\n",
    "        if temp in primes:\n",
    "            print(\"highest number under limit\",temp)\n",
    "            exit(0)"
   ]
  },
  {
   "cell_type": "code",
   "execution_count": null,
   "metadata": {},
   "outputs": [],
   "source": [
    "#5"
   ]
  },
  {
   "cell_type": "code",
   "execution_count": null,
   "metadata": {},
   "outputs": [],
   "source": [
    "class MyCircularQueue():\n",
    "\n",
    "    def __init__(self, k):\n",
    "        self.k = k\n",
    "        self.queue = [None] * k\n",
    "        self.head = self.tail = -1\n",
    "\n",
    "    # Insert an element into the circular queue\n",
    "    def enqueue(self, data):\n",
    "\n",
    "        if ((self.tail + 1) % self.k == self.head):\n",
    "            print(\"The circular queue is full\\n\")\n",
    "\n",
    "        elif (self.head == -1):\n",
    "            self.head = 0\n",
    "            self.tail = 0\n",
    "            self.queue[self.tail] = data\n",
    "        else:\n",
    "            self.tail = (self.tail + 1) % self.k\n",
    "            self.queue[self.tail] = data\n",
    "\n",
    "   \n",
    "    def dequeue(self):\n",
    "        if (self.head == -1):\n",
    "            print(\"The circular queue is empty\\n\")\n",
    "            \n",
    "            \n",
    "            \n",
    "def locatingMin(q, sortedIndex,size): \n",
    "    min_index = -1\n",
    "    min_val = 999999999999\n",
    "    n = size \n",
    "    for i in range(n): \n",
    "        curr = q.queue[0]  \n",
    "        q.dequeue() \n",
    "  \n",
    "        \n",
    "        if (curr <= min_val and i <= sortedIndex): \n",
    "            min_index = i  \n",
    "            min_val = curr \n",
    "        q.enqueue(curr)  \n",
    "    return min_index \n",
    "  \n",
    "\n",
    "def adjustingMin(q, min_index,size): \n",
    "    min_val = None\n",
    "    n = size \n",
    "    for i in range(n): \n",
    "        curr = q.queue[0]  \n",
    "        q.dequeue() \n",
    "        if (i != min_index):  \n",
    "            q.enqueue(curr)  \n",
    "        else: \n",
    "            min_val = curr \n",
    "    q.enqueue(min_val) \n",
    "def sortQueue(q,size): \n",
    "    for i in range(1, size ): \n",
    "        min_index = locatingMin(q, size - i,size)  \n",
    "        adjustingMin(q, min_index,size) \n",
    "\n",
    "if __name__ == '__main__': \n",
    "    q =MyCircularQueue(5) \n",
    "    q.enqueue(30)  \n",
    "    q.enqueue(11)  \n",
    "    q.enqueue(15)  \n",
    "    q.enqueue(4)  \n",
    "      \n",
    "    \n",
    "    sortQueue(q,5)  \n",
    "    \n",
    "        \n",
    "        "
   ]
  },
  {
   "cell_type": "code",
   "execution_count": 1,
   "metadata": {},
   "outputs": [],
   "source": [
    "# 6"
   ]
  },
  {
   "cell_type": "code",
   "execution_count": 2,
   "metadata": {},
   "outputs": [],
   "source": [
    "from queue import Queue "
   ]
  },
  {
   "cell_type": "code",
   "execution_count": 3,
   "metadata": {},
   "outputs": [],
   "source": [
    "class Stack:\n",
    "    def __init__(self):\n",
    "        self.queue1 = Queue()\n",
    "        self.queue2 = Queue()\n",
    " \n",
    "    def is_empty(self):\n",
    "        return self.queue2.empty()\n",
    " \n",
    "    def push(self, data):\n",
    "        self.queue1.put(data)\n",
    "        while not self.queue2.empty():\n",
    "            x = self.queue2.get()\n",
    "            self.queue1.put(x)\n",
    "        self.queue1, self.queue2 = self.queue2, self.queue1\n",
    " \n",
    "    def pop(self):\n",
    "        if ApnaS.is_empty():\n",
    "            print('Stack is empty.')\n",
    "        else:\n",
    "            return self.queue2.get()\n",
    " \n"
   ]
  },
  {
   "cell_type": "code",
   "execution_count": 4,
   "metadata": {},
   "outputs": [
    {
     "name": "stdout",
     "output_type": "stream",
     "text": [
      "Popped value:  1\n",
      "Popped value:  5\n"
     ]
    }
   ],
   "source": [
    "ApnaS = Stack()\n",
    " \n",
    "ApnaS.push(3)\n",
    "ApnaS.push(4)\n",
    "ApnaS.push(5)\n",
    "ApnaS.push(1)\n",
    "        \n",
    "print('Popped value: ', ApnaS.pop())\n",
    "print('Popped value: ', ApnaS.pop())"
   ]
  },
  {
   "cell_type": "code",
   "execution_count": null,
   "metadata": {},
   "outputs": [],
   "source": [
    "# 4"
   ]
  },
  {
   "cell_type": "code",
   "execution_count": null,
   "metadata": {},
   "outputs": [],
   "source": [
    "\n",
    "possible = []\n",
    "\n",
    "def transpose(val):\n",
    "    \n",
    "    val = str(val)\n",
    "    return int(val[::-1])\n",
    "\n",
    "def chk(val):\n",
    "    \n",
    "    iterated = val + transpose(val)\n",
    "    for i in range(25):\n",
    "        rTrav = transpose(iterated)\n",
    "        if iterated != rTrav:\n",
    "            iterated = iterated + rTrav\n",
    "        else:\n",
    "            return False\n",
    "    return True\n",
    "\n",
    "\n",
    "\n",
    "\n",
    "\n",
    "for val in range(10001):\n",
    "    if chk(val):\n",
    "        possible.append(val)\n",
    "\n",
    "\n",
    "\n",
    "\n",
    "print(' '.join(map(str, possible)), 'are possible.')\n"
   ]
  }
 ],
 "metadata": {
  "kernelspec": {
   "display_name": "Python 3",
   "language": "python",
   "name": "python3"
  },
  "language_info": {
   "codemirror_mode": {
    "name": "ipython",
    "version": 3
   },
   "file_extension": ".py",
   "mimetype": "text/x-python",
   "name": "python",
   "nbconvert_exporter": "python",
   "pygments_lexer": "ipython3",
   "version": "3.7.3"
  }
 },
 "nbformat": 4,
 "nbformat_minor": 2
}
